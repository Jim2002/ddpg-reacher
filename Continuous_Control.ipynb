{
 "cells": [
  {
   "cell_type": "markdown",
   "metadata": {},
   "source": [
    "# Continuous Control\n",
    "\n",
    "---\n",
    "\n",
    "In this notebook, you will learn how to use the Unity ML-Agents environment for the second project of the [Deep Reinforcement Learning Nanodegree](https://www.udacity.com/course/deep-reinforcement-learning-nanodegree--nd893) program.\n",
    "\n",
    "### 1. Start the Environment\n",
    "\n",
    "We begin by importing the necessary packages.  If the code cell below returns an error, please revisit the project instructions to double-check that you have installed [Unity ML-Agents](https://github.com/Unity-Technologies/ml-agents/blob/master/docs/Installation.md) and [NumPy](http://www.numpy.org/)."
   ]
  },
  {
   "cell_type": "code",
   "execution_count": 1,
   "metadata": {},
   "outputs": [],
   "source": [
    "from unityagents import UnityEnvironment\n",
    "import numpy as np"
   ]
  },
  {
   "cell_type": "markdown",
   "metadata": {},
   "source": [
    "Next, we will start the environment!  **_Before running the code cell below_**, change the `file_name` parameter to match the location of the Unity environment that you downloaded.\n",
    "\n",
    "- **Mac**: `\"path/to/Reacher.app\"`\n",
    "- **Windows** (x86): `\"path/to/Reacher_Windows_x86/Reacher.exe\"`\n",
    "- **Windows** (x86_64): `\"path/to/Reacher_Windows_x86_64/Reacher.exe\"`\n",
    "- **Linux** (x86): `\"path/to/Reacher_Linux/Reacher.x86\"`\n",
    "- **Linux** (x86_64): `\"path/to/Reacher_Linux/Reacher.x86_64\"`\n",
    "- **Linux** (x86, headless): `\"path/to/Reacher_Linux_NoVis/Reacher.x86\"`\n",
    "- **Linux** (x86_64, headless): `\"path/to/Reacher_Linux_NoVis/Reacher.x86_64\"`\n",
    "\n",
    "For instance, if you are using a Mac, then you downloaded `Reacher.app`.  If this file is in the same folder as the notebook, then the line below should appear as follows:\n",
    "```\n",
    "env = UnityEnvironment(file_name=\"Reacher.app\")\n",
    "```"
   ]
  },
  {
   "cell_type": "code",
   "execution_count": 2,
   "metadata": {},
   "outputs": [
    {
     "name": "stderr",
     "output_type": "stream",
     "text": [
      "INFO:unityagents:\n",
      "'Academy' started successfully!\n",
      "Unity Academy name: Academy\n",
      "        Number of Brains: 1\n",
      "        Number of External Brains : 1\n",
      "        Lesson number : 0\n",
      "        Reset Parameters :\n",
      "\t\tgoal_speed -> 1.0\n",
      "\t\tgoal_size -> 5.0\n",
      "Unity brain name: ReacherBrain\n",
      "        Number of Visual Observations (per agent): 0\n",
      "        Vector Observation space type: continuous\n",
      "        Vector Observation space size (per agent): 33\n",
      "        Number of stacked Vector Observation: 1\n",
      "        Vector Action space type: continuous\n",
      "        Vector Action space size (per agent): 4\n",
      "        Vector Action descriptions: , , , \n"
     ]
    }
   ],
   "source": [
    "env = UnityEnvironment(file_name='C:\\\\Users\\\\user\\\\deep-reinforcement-learning\\\\p2_continuous-control\\\\Reacher_Windows_x86_64\\\\Reacher_Windows_x86_64\\\\Reacher.exe')"
   ]
  },
  {
   "cell_type": "markdown",
   "metadata": {},
   "source": [
    "Environments contain **_brains_** which are responsible for deciding the actions of their associated agents. Here we check for the first brain available, and set it as the default brain we will be controlling from Python."
   ]
  },
  {
   "cell_type": "code",
   "execution_count": 3,
   "metadata": {},
   "outputs": [],
   "source": [
    "# get the default brain\n",
    "brain_name = env.brain_names[0]\n",
    "brain = env.brains[brain_name]"
   ]
  },
  {
   "cell_type": "markdown",
   "metadata": {},
   "source": [
    "### 2. Examine the State and Action Spaces\n",
    "\n",
    "In this environment, a double-jointed arm can move to target locations. A reward of `+0.1` is provided for each step that the agent's hand is in the goal location. Thus, the goal of your agent is to maintain its position at the target location for as many time steps as possible.\n",
    "\n",
    "The observation space consists of `33` variables corresponding to position, rotation, velocity, and angular velocities of the arm.  Each action is a vector with four numbers, corresponding to torque applicable to two joints.  Every entry in the action vector must be a number between `-1` and `1`.\n",
    "\n",
    "Run the code cell below to print some information about the environment."
   ]
  },
  {
   "cell_type": "code",
   "execution_count": 4,
   "metadata": {},
   "outputs": [
    {
     "name": "stdout",
     "output_type": "stream",
     "text": [
      "Number of agents: 20\n",
      "Size of each action: 4\n",
      "There are 20 agents. Each observes a state with length: 33\n",
      "The state for the first agent looks like: [ 0.00000000e+00 -4.00000000e+00  0.00000000e+00  1.00000000e+00\n",
      " -0.00000000e+00 -0.00000000e+00 -4.37113883e-08  0.00000000e+00\n",
      "  0.00000000e+00  0.00000000e+00  0.00000000e+00  0.00000000e+00\n",
      "  0.00000000e+00  0.00000000e+00 -1.00000000e+01  0.00000000e+00\n",
      "  1.00000000e+00 -0.00000000e+00 -0.00000000e+00 -4.37113883e-08\n",
      "  0.00000000e+00  0.00000000e+00  0.00000000e+00  0.00000000e+00\n",
      "  0.00000000e+00  0.00000000e+00  5.75471878e+00 -1.00000000e+00\n",
      "  5.55726624e+00  0.00000000e+00  1.00000000e+00  0.00000000e+00\n",
      " -1.68164849e-01]\n"
     ]
    }
   ],
   "source": [
    "# reset the environment\n",
    "env_info = env.reset(train_mode=True)[brain_name]\n",
    "\n",
    "# number of agents\n",
    "num_agents = len(env_info.agents)\n",
    "print('Number of agents:', num_agents)\n",
    "\n",
    "# size of each action\n",
    "action_size = brain.vector_action_space_size\n",
    "print('Size of each action:', action_size)\n",
    "\n",
    "# examine the state space \n",
    "states = env_info.vector_observations\n",
    "state_size = states.shape[1]\n",
    "print('There are {} agents. Each observes a state with length: {}'.format(states.shape[0], state_size))\n",
    "print('The state for the first agent looks like:', states[0])"
   ]
  },
  {
   "cell_type": "markdown",
   "metadata": {},
   "source": [
    "### 3. Take Random Actions in the Environment\n",
    "\n",
    "In the next code cell, you will learn how to use the Python API to control the agent and receive feedback from the environment.\n",
    "\n",
    "Once this cell is executed, you will watch the agent's performance, if it selects an action at random with each time step.  A window should pop up that allows you to observe the agent, as it moves through the environment.  \n",
    "\n",
    "Of course, as part of the project, you'll have to change the code so that the agent is able to use its experience to gradually choose better actions when interacting with the environment!"
   ]
  },
  {
   "cell_type": "code",
   "execution_count": 5,
   "metadata": {},
   "outputs": [
    {
     "name": "stdout",
     "output_type": "stream",
     "text": [
      "Total score (averaged over agents) this episode: 0.1514999966137111\n"
     ]
    }
   ],
   "source": [
    "# env_info = env.reset(train_mode=False)[brain_name]     # reset the environment    \n",
    "# states = env_info.vector_observations                  # get the current state (for each agent)\n",
    "# scores = np.zeros(num_agents)                          # initialize the score (for each agent)\n",
    "# while True:\n",
    "#     actions = np.random.randn(num_agents, action_size) # select an action (for each agent)\n",
    "#     actions = np.clip(actions, -1, 1)                  # all actions between -1 and 1\n",
    "#     env_info = env.step(actions)[brain_name]           # send all actions to tne environment\n",
    "#     next_states = env_info.vector_observations         # get next state (for each agent)\n",
    "#     rewards = env_info.rewards                         # get reward (for each agent)\n",
    "#     dones = env_info.local_done                        # see if episode finished\n",
    "#     scores += env_info.rewards                         # update the score (for each agent)\n",
    "#     states = next_states                               # roll over states to next time step\n",
    "#     if np.any(dones):                                  # exit loop if episode finished\n",
    "#         break\n",
    "# print('Total score (averaged over agents) this episode: {}'.format(np.mean(scores)))"
   ]
  },
  {
   "cell_type": "markdown",
   "metadata": {},
   "source": [
    "When finished, you can close the environment."
   ]
  },
  {
   "cell_type": "code",
   "execution_count": 9,
   "metadata": {},
   "outputs": [],
   "source": [
    "env.close()"
   ]
  },
  {
   "cell_type": "markdown",
   "metadata": {},
   "source": [
    "### 4. It's Your Turn!\n",
    "\n",
    "Now it's your turn to train your own agent to solve the environment!  When training the environment, set `train_mode=True`, so that the line for resetting the environment looks like the following:\n",
    "```python\n",
    "env_info = env.reset(train_mode=True)[brain_name]\n",
    "```"
   ]
  },
  {
   "cell_type": "code",
   "execution_count": 8,
   "metadata": {},
   "outputs": [],
   "source": [
    "from ddpg_agent import Agent, ReplayBuffer, OUNoise\n",
    "from collections import deque\n",
    "import torch\n",
    "import matplotlib.pyplot as plt "
   ]
  },
  {
   "cell_type": "code",
   "execution_count": 6,
   "metadata": {},
   "outputs": [],
   "source": [
    "agent = Agent(state_size=state_size, action_size=action_size, num_agents=num_agents, random_seed=0)"
   ]
  },
  {
   "cell_type": "code",
   "execution_count": 7,
   "metadata": {},
   "outputs": [
    {
     "name": "stdout",
     "output_type": "stream",
     "text": [
      "Episode 1 ... Reward: 0.571 ... Average Reward: 0.571\n",
      "Episode 2 ... Reward: 0.644 ... Average Reward: 0.608\n",
      "Episode 3 ... Reward: 0.927 ... Average Reward: 0.714\n",
      "Episode 4 ... Reward: 1.014 ... Average Reward: 0.789\n",
      "Episode 5 ... Reward: 1.066 ... Average Reward: 0.845\n",
      "Episode 6 ... Reward: 1.090 ... Average Reward: 0.886\n",
      "Episode 7 ... Reward: 1.900 ... Average Reward: 1.031\n",
      "Episode 8 ... Reward: 1.534 ... Average Reward: 1.094\n",
      "Episode 9 ... Reward: 2.164 ... Average Reward: 1.212\n",
      "Episode 10 ... Reward: 2.408 ... Average Reward: 1.332\n",
      "Episode 11 ... Reward: 3.544 ... Average Reward: 1.533\n",
      "Episode 12 ... Reward: 3.237 ... Average Reward: 1.675\n",
      "Episode 13 ... Reward: 4.007 ... Average Reward: 1.855\n",
      "Episode 14 ... Reward: 5.031 ... Average Reward: 2.082\n",
      "Episode 15 ... Reward: 5.162 ... Average Reward: 2.287\n",
      "Episode 16 ... Reward: 5.225 ... Average Reward: 2.471\n",
      "Episode 17 ... Reward: 5.053 ... Average Reward: 2.623\n",
      "Episode 18 ... Reward: 6.031 ... Average Reward: 2.812\n",
      "Episode 19 ... Reward: 7.230 ... Average Reward: 3.044\n",
      "Episode 20 ... Reward: 6.696 ... Average Reward: 3.227\n",
      "Episode 21 ... Reward: 8.237 ... Average Reward: 3.466\n",
      "Episode 22 ... Reward: 8.307 ... Average Reward: 3.686\n",
      "Episode 23 ... Reward: 10.114 ... Average Reward: 3.965\n",
      "Episode 24 ... Reward: 9.620 ... Average Reward: 4.201\n",
      "Episode 25 ... Reward: 10.300 ... Average Reward: 4.445\n",
      "Episode 26 ... Reward: 11.318 ... Average Reward: 4.709\n",
      "Episode 27 ... Reward: 12.502 ... Average Reward: 4.998\n",
      "Episode 28 ... Reward: 11.158 ... Average Reward: 5.218\n",
      "Episode 29 ... Reward: 12.766 ... Average Reward: 5.478\n",
      "Episode 30 ... Reward: 10.903 ... Average Reward: 5.659\n",
      "Episode 31 ... Reward: 12.422 ... Average Reward: 5.877\n",
      "Episode 32 ... Reward: 12.376 ... Average Reward: 6.080\n",
      "Episode 33 ... Reward: 12.667 ... Average Reward: 6.280\n",
      "Episode 34 ... Reward: 12.280 ... Average Reward: 6.456\n",
      "Episode 35 ... Reward: 12.936 ... Average Reward: 6.641\n",
      "Episode 36 ... Reward: 14.551 ... Average Reward: 6.861\n",
      "Episode 37 ... Reward: 14.711 ... Average Reward: 7.073\n",
      "Episode 38 ... Reward: 14.934 ... Average Reward: 7.280\n",
      "Episode 39 ... Reward: 15.892 ... Average Reward: 7.501\n",
      "Episode 40 ... Reward: 16.065 ... Average Reward: 7.715\n",
      "Episode 41 ... Reward: 16.886 ... Average Reward: 7.939\n",
      "Episode 42 ... Reward: 18.397 ... Average Reward: 8.188\n",
      "Episode 43 ... Reward: 19.271 ... Average Reward: 8.446\n",
      "Episode 44 ... Reward: 19.528 ... Average Reward: 8.697\n",
      "Episode 45 ... Reward: 19.154 ... Average Reward: 8.930\n",
      "Episode 46 ... Reward: 22.260 ... Average Reward: 9.220\n",
      "Episode 47 ... Reward: 24.346 ... Average Reward: 9.542\n",
      "Episode 48 ... Reward: 24.018 ... Average Reward: 9.843\n",
      "Episode 49 ... Reward: 26.607 ... Average Reward: 10.185\n",
      "Episode 50 ... Reward: 28.345 ... Average Reward: 10.548\n",
      "Episode 51 ... Reward: 30.325 ... Average Reward: 10.936\n",
      "Episode 52 ... Reward: 31.603 ... Average Reward: 11.334\n",
      "Episode 53 ... Reward: 33.997 ... Average Reward: 11.761\n",
      "Episode 54 ... Reward: 34.188 ... Average Reward: 12.177\n",
      "Episode 55 ... Reward: 36.069 ... Average Reward: 12.611\n",
      "Episode 56 ... Reward: 36.300 ... Average Reward: 13.034\n",
      "Episode 57 ... Reward: 37.122 ... Average Reward: 13.457\n",
      "Episode 58 ... Reward: 37.200 ... Average Reward: 13.866\n",
      "Episode 59 ... Reward: 37.144 ... Average Reward: 14.261\n",
      "Episode 60 ... Reward: 37.689 ... Average Reward: 14.651\n",
      "Episode 61 ... Reward: 37.298 ... Average Reward: 15.022\n",
      "Episode 62 ... Reward: 37.851 ... Average Reward: 15.390\n",
      "Episode 63 ... Reward: 37.528 ... Average Reward: 15.742\n",
      "Episode 64 ... Reward: 36.109 ... Average Reward: 16.060\n",
      "Episode 65 ... Reward: 36.651 ... Average Reward: 16.377\n",
      "Episode 66 ... Reward: 37.516 ... Average Reward: 16.697\n",
      "Episode 67 ... Reward: 36.521 ... Average Reward: 16.993\n",
      "Episode 68 ... Reward: 35.990 ... Average Reward: 17.272\n",
      "Episode 69 ... Reward: 36.635 ... Average Reward: 17.553\n",
      "Episode 70 ... Reward: 35.902 ... Average Reward: 17.815\n",
      "Episode 71 ... Reward: 35.979 ... Average Reward: 18.071\n",
      "Episode 72 ... Reward: 35.890 ... Average Reward: 18.319\n",
      "Episode 73 ... Reward: 36.167 ... Average Reward: 18.563\n",
      "Episode 74 ... Reward: 33.464 ... Average Reward: 18.764\n",
      "Episode 75 ... Reward: 34.562 ... Average Reward: 18.975\n",
      "Episode 76 ... Reward: 34.364 ... Average Reward: 19.178\n",
      "Episode 77 ... Reward: 35.701 ... Average Reward: 19.392\n",
      "Episode 78 ... Reward: 35.824 ... Average Reward: 19.603\n",
      "Episode 79 ... Reward: 36.013 ... Average Reward: 19.811\n",
      "Episode 80 ... Reward: 35.740 ... Average Reward: 20.010\n",
      "Episode 81 ... Reward: 36.666 ... Average Reward: 20.215\n",
      "Episode 82 ... Reward: 35.889 ... Average Reward: 20.406\n",
      "Episode 83 ... Reward: 34.517 ... Average Reward: 20.576\n",
      "Episode 84 ... Reward: 36.068 ... Average Reward: 20.761\n",
      "Episode 85 ... Reward: 34.951 ... Average Reward: 20.928\n",
      "Episode 86 ... Reward: 35.002 ... Average Reward: 21.091\n",
      "Episode 87 ... Reward: 34.854 ... Average Reward: 21.250\n",
      "Episode 88 ... Reward: 34.679 ... Average Reward: 21.402\n",
      "Episode 89 ... Reward: 33.579 ... Average Reward: 21.539\n",
      "Episode 90 ... Reward: 34.312 ... Average Reward: 21.681\n",
      "Episode 91 ... Reward: 35.240 ... Average Reward: 21.830\n",
      "Episode 92 ... Reward: 35.672 ... Average Reward: 21.980\n",
      "Episode 93 ... Reward: 36.391 ... Average Reward: 22.135\n",
      "Episode 94 ... Reward: 36.443 ... Average Reward: 22.288\n",
      "Episode 95 ... Reward: 36.896 ... Average Reward: 22.441\n",
      "Episode 96 ... Reward: 36.427 ... Average Reward: 22.587\n",
      "Episode 97 ... Reward: 34.338 ... Average Reward: 22.708\n",
      "Episode 98 ... Reward: 35.182 ... Average Reward: 22.836\n",
      "Episode 99 ... Reward: 35.301 ... Average Reward: 22.961\n",
      "Episode 100 ... Reward: 35.220 ... Average Reward: 23.084\n",
      "Episode 101 ... Reward: 35.628 ... Average Reward: 23.435\n",
      "Episode 102 ... Reward: 34.813 ... Average Reward: 23.776\n",
      "Episode 103 ... Reward: 36.687 ... Average Reward: 24.134\n",
      "Episode 104 ... Reward: 35.968 ... Average Reward: 24.483\n",
      "Episode 105 ... Reward: 35.135 ... Average Reward: 24.824\n",
      "Episode 106 ... Reward: 34.607 ... Average Reward: 25.159\n",
      "Episode 107 ... Reward: 35.713 ... Average Reward: 25.497\n",
      "Episode 108 ... Reward: 34.385 ... Average Reward: 25.826\n",
      "Episode 109 ... Reward: 34.890 ... Average Reward: 26.153\n",
      "Episode 110 ... Reward: 34.849 ... Average Reward: 26.478\n",
      "Episode 111 ... Reward: 34.886 ... Average Reward: 26.791\n",
      "Episode 112 ... Reward: 35.601 ... Average Reward: 27.115\n",
      "Episode 113 ... Reward: 36.114 ... Average Reward: 27.436\n",
      "Episode 114 ... Reward: 35.872 ... Average Reward: 27.744\n",
      "Episode 115 ... Reward: 35.858 ... Average Reward: 28.051\n",
      "Episode 116 ... Reward: 37.079 ... Average Reward: 28.370\n",
      "Episode 117 ... Reward: 36.435 ... Average Reward: 28.683\n",
      "Episode 118 ... Reward: 37.144 ... Average Reward: 28.995\n",
      "Episode 119 ... Reward: 36.552 ... Average Reward: 29.288\n",
      "Episode 120 ... Reward: 36.576 ... Average Reward: 29.587\n",
      "Episode 121 ... Reward: 34.082 ... Average Reward: 29.845\n",
      "Episode 122 ... Reward: 33.711 ... Average Reward: 30.099\n",
      "\n",
      "Environment solved in 22 episodes!\tAverage Score: 30.099\n"
     ]
    },
    {
     "ename": "NameError",
     "evalue": "name 'plt' is not defined",
     "output_type": "error",
     "traceback": [
      "\u001b[1;31m---------------------------------------------------------------------------\u001b[0m",
      "\u001b[1;31mNameError\u001b[0m                                 Traceback (most recent call last)",
      "\u001b[1;32m<ipython-input-7-90b41d937073>\u001b[0m in \u001b[0;36m<module>\u001b[1;34m\u001b[0m\n\u001b[0;32m     36\u001b[0m \u001b[0mscores\u001b[0m \u001b[1;33m=\u001b[0m \u001b[0mddpg\u001b[0m\u001b[1;33m(\u001b[0m\u001b[1;33m)\u001b[0m\u001b[1;33m\u001b[0m\u001b[1;33m\u001b[0m\u001b[0m\n\u001b[0;32m     37\u001b[0m \u001b[1;33m\u001b[0m\u001b[0m\n\u001b[1;32m---> 38\u001b[1;33m \u001b[0mfig\u001b[0m \u001b[1;33m=\u001b[0m \u001b[0mplt\u001b[0m\u001b[1;33m.\u001b[0m\u001b[0mfigure\u001b[0m\u001b[1;33m(\u001b[0m\u001b[1;33m)\u001b[0m\u001b[1;33m\u001b[0m\u001b[1;33m\u001b[0m\u001b[0m\n\u001b[0m\u001b[0;32m     39\u001b[0m \u001b[0max\u001b[0m \u001b[1;33m=\u001b[0m \u001b[0mfig\u001b[0m\u001b[1;33m.\u001b[0m\u001b[0madd_subplot\u001b[0m\u001b[1;33m(\u001b[0m\u001b[1;36m111\u001b[0m\u001b[1;33m)\u001b[0m\u001b[1;33m\u001b[0m\u001b[1;33m\u001b[0m\u001b[0m\n\u001b[0;32m     40\u001b[0m \u001b[0mplt\u001b[0m\u001b[1;33m.\u001b[0m\u001b[0mplot\u001b[0m\u001b[1;33m(\u001b[0m\u001b[0mnp\u001b[0m\u001b[1;33m.\u001b[0m\u001b[0marange\u001b[0m\u001b[1;33m(\u001b[0m\u001b[1;36m1\u001b[0m\u001b[1;33m,\u001b[0m \u001b[0mlen\u001b[0m\u001b[1;33m(\u001b[0m\u001b[0mscores\u001b[0m\u001b[1;33m)\u001b[0m\u001b[1;33m+\u001b[0m\u001b[1;36m1\u001b[0m\u001b[1;33m)\u001b[0m\u001b[1;33m,\u001b[0m \u001b[0mscores\u001b[0m\u001b[1;33m)\u001b[0m\u001b[1;33m\u001b[0m\u001b[1;33m\u001b[0m\u001b[0m\n",
      "\u001b[1;31mNameError\u001b[0m: name 'plt' is not defined"
     ]
    }
   ],
   "source": [
    "def ddpg(n_episodes=1000, queue=100):\n",
    "    scores_window = deque(maxlen=queue)\n",
    "    scores_all = []\n",
    "    for i_episode in range(1, n_episodes+1):\n",
    "        env_info = env.reset(train_mode=True)[brain_name]      # reset the environment    \n",
    "        states = env_info.vector_observations\n",
    "        agent.reset()\n",
    "        scores = np.zeros(num_agents)\n",
    "        while True:\n",
    "            actions = agent.act(states)                        # select an action (for each agent)\n",
    "            env_info = env.step(actions)[brain_name]           # send all actions to tne environment\n",
    "            next_states = env_info.vector_observations         # get next state (for each agent)\n",
    "            rewards = env_info.rewards                         # get reward (for each agent)\n",
    "            dones = env_info.local_done                        # see if episode finished\n",
    "            agent.step(states, actions, rewards, next_states, dones)\n",
    "            scores += rewards                                  # update the score (for each agent)\n",
    "            states = next_states                               # roll over states to next time step\n",
    "            if np.any(dones):                                  # exit loop if episode finished\n",
    "                break\n",
    "\n",
    "        scores_window.append(np.mean(scores))\n",
    "        scores_all.append(np.mean(scores))\n",
    "        \n",
    "        print('Episode {} ... Reward: {:.3f} ... Average Reward: {:.3f}'.format(\n",
    "                i_episode, np.mean(scores), np.mean(scores_window)))\n",
    "\n",
    "        if np.mean(scores_window)>=30.0:\n",
    "            print('\\nEnvironment solved in {:d} episodes!\\tAverage Score: {:.3f}'.format(\n",
    "                i_episode-100, np.mean(scores_window)))\n",
    "            torch.save(agent.actor_local.state_dict(), 'checkpoint_actor.pth')\n",
    "            torch.save(agent.critic_local.state_dict(), 'checkpoint_critic.pth')\n",
    "            break\n",
    "\n",
    "    return scores_all\n",
    "\n",
    "scores = ddpg()\n",
    "\n"
   ]
  },
  {
   "cell_type": "code",
   "execution_count": 9,
   "metadata": {},
   "outputs": [
    {
     "data": {
      "image/png": "[encoded data removed]",
      "text/plain": [
       "<Figure size 432x288 with 1 Axes>"
      ]
     },
     "metadata": {
      "needs_background": "light"
     },
     "output_type": "display_data"
    }
   ],
   "source": [
    "fig = plt.figure()\n",
    "ax = fig.add_subplot(111)\n",
    "plt.plot(np.arange(1, len(scores)+1), scores)\n",
    "plt.ylabel('Score')\n",
    "plt.xlabel('Episode #')\n",
    "plt.show()"
   ]
  },
  {
   "cell_type": "code",
   "execution_count": 11,
   "metadata": {},
   "outputs": [],
   "source": [
    "# watch trained agent in action\n",
    "\n",
    "agent.actor_local.load_state_dict(torch.load('checkpoint_actor.pth'))\n",
    "agent.critic_local.load_state_dict(torch.load('checkpoint_critic.pth'))\n",
    "\n",
    "env_info = env.reset(train_mode=False)[brain_name]        \n",
    "states = env_info.vector_observations                  \n",
    "scores = np.zeros(num_agents)                          \n",
    "\n",
    "for i in range(500):\n",
    "    actions = agent.act(states, add_noise=False)                    \n",
    "    env_info = env.step(actions)[brain_name]        \n",
    "    next_states = env_info.vector_observations        \n",
    "    rewards = env_info.rewards                        \n",
    "    dones = env_info.local_done                 \n",
    "    scores += rewards                         \n",
    "    states = next_states                              \n",
    "    if np.any(dones):                              \n",
    "        break"
   ]
  },
  {
   "cell_type": "code",
   "execution_count": 12,
   "metadata": {},
   "outputs": [],
   "source": [
    "env.close() "
   ]
  },
  {
   "cell_type": "code",
   "execution_count": null,
   "metadata": {},
   "outputs": [],
   "source": []
  }
 ],
 "metadata": {
  "kernelspec": {
   "display_name": "Python 3",
   "language": "python",
   "name": "python3"
  },
  "language_info": {
   "codemirror_mode": {
    "name": "ipython",
    "version": 3
   },
   "file_extension": ".py",
   "mimetype": "text/x-python",
   "name": "python",
   "nbconvert_exporter": "python",
   "pygments_lexer": "ipython3",
   "version": "3.6.7"
  }
 },
 "nbformat": 4,
 "nbformat_minor": 2
}
